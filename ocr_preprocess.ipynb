{
 "cells": [
  {
   "cell_type": "code",
   "execution_count": null,
   "metadata": {},
   "outputs": [],
   "source": [
    "'''\n",
    "\n",
    "Usage on Command line to preprocess images only - Using Anaconda Prompt in the parent directory of all files\n",
    "\n",
    "python ocr_preprocess -i image_name.jpg -p blur\n",
    "\n",
    "i is for image and p is for preprocessing\n",
    "\n",
    "'''\n",
    "from PIL import Image\n",
    "import pytesseract\n",
    "import numpy as np\n",
    "import argparse\n",
    "import cv2, os\n",
    "\n",
    "# parse the argument\n",
    "parser = argparse.ArgumentParser()\n",
    "parser.add_argument(\"-i\", \"--image\", required=True)\n",
    "parser.add_argument(\"-p\", \"--preprocess\", type=str, default=\"thresh\")\n",
    "args = vars(parser.parse_args())\n",
    "\n",
    "# load the example image and convert it to grayscale\n",
    "image = cv2.imread(args[\"image\"])\n",
    "gray = cv2.cvtColor(image, cv2.COLOR_BGR2GRAY)\n",
    "\n",
    "# check preprocess to apply thresholding on the image\n",
    "if args[\"preprocess\"] == \"thresh\":\n",
    "    gray = cv2.threshold(gray, 0, 255,\n",
    "                         cv2.THRESH_BINARY | cv2.THRESH_OTSU)[1]\n",
    "\n",
    "elif args[\"preprocess\"] == \"blur\":\n",
    "    gray = cv2.medianBlur(gray, 3)\n",
    "\n",
    "# write the grayscale image to disk as a temporary file\n",
    "filename = \"{}.png\".format(os.getpid())\n",
    "cv2.imwrite(filename, gray)\n",
    "\n",
    "# load the image as a PIL/Pillow image\n",
    "# apply OCR\n",
    "# delete temp image\n",
    "text = pytesseract.image_to_string(Image.open(filename))\n",
    "os.remove(filename)\n",
    "\n",
    "# TO-DO : Additional processing such as spellchecking for OCR errors or NLP\n",
    "print(text)\n",
    "\n",
    "# show the output images\n",
    "cv2.imshow(\"Image\", image)\n",
    "cv2.imshow(\"Output\", gray)\n",
    "cv2.waitKey(0)\n",
    "cv2.destroyAllWindows()"
   ]
  }
 ],
 "metadata": {
  "kernelspec": {
   "display_name": "Python 3",
   "language": "python",
   "name": "python3"
  },
  "language_info": {
   "codemirror_mode": {
    "name": "ipython",
    "version": 3
   },
   "file_extension": ".py",
   "mimetype": "text/x-python",
   "name": "python",
   "nbconvert_exporter": "python",
   "pygments_lexer": "ipython3",
   "version": "3.7.6"
  }
 },
 "nbformat": 4,
 "nbformat_minor": 4
}
