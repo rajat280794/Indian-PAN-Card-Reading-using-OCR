{
 "cells": [
  {
   "cell_type": "code",
   "execution_count": null,
   "metadata": {},
   "outputs": [],
   "source": [
    "#!/usr/bin/env python\n",
    "import sys\n",
    "\n",
    "from collections import defaultdict\n",
    "\n",
    "from box import load_box_file\n",
    "\n",
    "def box_widths(boxes, path):\n",
    "    \"\"\"Returns a dict mapping box width -> count.\"\"\"\n",
    "    counts = defaultdict(int)\n",
    "    for box in boxes:\n",
    "        width = box.right - box.left\n",
    "        if 16 <= width and width <= 19:\n",
    "            sys.stderr.write('%s: %s %s\\n' % (width, path, box))\n",
    "        counts[width] += 1\n",
    "    return counts\n",
    "\n",
    "\n",
    "def counts_to_list(counts):\n",
    "    high_val = max(counts.keys())\n",
    "    return [counts[x] for x in range(0, high_val + 1)]\n",
    "\n",
    "\n",
    "if __name__ == '__main__':\n",
    "    count_lists = []\n",
    "    for path in sys.argv[1:]:\n",
    "        boxes = load_box_file(path)\n",
    "        count_lists.append(counts_to_list(box_widths(boxes, path)))\n",
    "\n",
    "    max_width = max(len(x) for x in count_lists)\n",
    "\n",
    "    print('\\t'.join([''] + [str(x) for x in range(0, max_width)]))\n",
    "    for path, counts in zip(sys.argv[1:], count_lists):\n",
    "        print('%s\\t%s' % (path, '\\t'.join(str(x) for x in counts)))"
   ]
  }
 ],
 "metadata": {
  "kernelspec": {
   "display_name": "Python 3",
   "language": "python",
   "name": "python3"
  },
  "language_info": {
   "codemirror_mode": {
    "name": "ipython",
    "version": 3
   },
   "file_extension": ".py",
   "mimetype": "text/x-python",
   "name": "python",
   "nbconvert_exporter": "python",
   "pygments_lexer": "ipython3",
   "version": "3.7.6"
  }
 },
 "nbformat": 4,
 "nbformat_minor": 4
}
